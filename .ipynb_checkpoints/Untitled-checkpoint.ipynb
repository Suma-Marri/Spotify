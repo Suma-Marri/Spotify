{
 "cells": [
  {
   "cell_type": "markdown",
   "id": "c7a99b7e",
   "metadata": {},
   "source": [
    "Getting Access Tokens"
   ]
  },
  {
   "cell_type": "code",
   "execution_count": 1,
   "id": "342ade2b",
   "metadata": {},
   "outputs": [],
   "source": [
    "import requests\n",
    "\n",
    "CLIENT_ID = 'fcec7bdbea3d438f9a0b9158e82b057f'\n",
    "CLIENT_SECRET = '63f31f01040647b5891953b97a3fbee2'"
   ]
  },
  {
   "cell_type": "code",
   "execution_count": null,
   "id": "2bf9b9b6",
   "metadata": {},
   "outputs": [],
   "source": [
    "AUTH_URL = 'https://accounts.spotify.com/api/token'\n",
    "\n",
    "# POST\n",
    "auth_response = requests.post(AUTH_URL, {\n",
    "    'grant_type': 'client_credentials',\n",
    "    'client_id': CLIENT_ID,\n",
    "    'client_secret': CLIENT_SECRET,\n",
    "})\n",
    "\n",
    "# convert the response to JSON\n",
    "auth_response_data = auth_response.json()\n",
    "\n",
    "# save the access token\n",
    "access_token = auth_response_data['access_token']"
   ]
  }
 ],
 "metadata": {
  "kernelspec": {
   "display_name": "Python 3 (ipykernel)",
   "language": "python",
   "name": "python3"
  },
  "language_info": {
   "codemirror_mode": {
    "name": "ipython",
    "version": 3
   },
   "file_extension": ".py",
   "mimetype": "text/x-python",
   "name": "python",
   "nbconvert_exporter": "python",
   "pygments_lexer": "ipython3",
   "version": "3.9.7"
  }
 },
 "nbformat": 4,
 "nbformat_minor": 5
}
