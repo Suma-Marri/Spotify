{
 "cells": [
  {
   "cell_type": "markdown",
   "id": "665bd42a",
   "metadata": {},
   "source": [
    "!pip install spotipy"
   ]
  },
  {
   "cell_type": "code",
   "execution_count": 1,
   "id": "44f79e82",
   "metadata": {},
   "outputs": [],
   "source": [
    "import spotipy\n",
    "from spotipy.oauth2 import SpotifyClientCredentials \n",
    "client_id = \"fcec7bdbea3d438f9a0b9158e82b057f\"\n",
    "client_secret = \"63f31f01040647b5891953b97a3fbee2\"\n",
    "client_credentials_manager = SpotifyClientCredentials(client_id=client_id, client_secret=client_secret)\n",
    "sp = spotipy.Spotify(client_credentials_manager=client_credentials_manager) "
   ]
  },
  {
   "cell_type": "code",
   "execution_count": 2,
   "id": "ebddd450",
   "metadata": {},
   "outputs": [
    {
     "data": {
      "text/plain": [
       "[{'external_urls': {'spotify': 'https://open.spotify.com/artist/4zCH9qm4R2DADamUHMCa6O'},\n",
       "  'href': 'https://api.spotify.com/v1/artists/4zCH9qm4R2DADamUHMCa6O',\n",
       "  'id': '4zCH9qm4R2DADamUHMCa6O',\n",
       "  'name': 'Anirudh Ravichander',\n",
       "  'type': 'artist',\n",
       "  'uri': 'spotify:artist:4zCH9qm4R2DADamUHMCa6O'},\n",
       " {'external_urls': {'spotify': 'https://open.spotify.com/artist/00sCATpEvwH48ays7PlQFU'},\n",
       "  'href': 'https://api.spotify.com/v1/artists/00sCATpEvwH48ays7PlQFU',\n",
       "  'id': '00sCATpEvwH48ays7PlQFU',\n",
       "  'name': 'Jonita Gandhi',\n",
       "  'type': 'artist',\n",
       "  'uri': 'spotify:artist:00sCATpEvwH48ays7PlQFU'}]"
      ]
     },
     "execution_count": 2,
     "metadata": {},
     "output_type": "execute_result"
    }
   ],
   "source": [
    "name = [\"Anirudh Ravichander\",\"Jonita Gandhi\",\"Dhanush\",\"Bombay Jayashree\"]\n",
    "result = sp.search(name) \n",
    "result['tracks']['items'][1]['artists']"
   ]
  },
  {
   "cell_type": "code",
   "execution_count": 3,
   "id": "a9a01492",
   "metadata": {},
   "outputs": [
    {
     "data": {
      "text/plain": [
       "['spotify:album:57HnFkNaWMtqA3h7rrRIAh',\n",
       " 'spotify:album:4iFurFyAPhOlzwQTc5aXN2',\n",
       " 'spotify:album:6BPODqF16Z9iQ7sUaLlCpe',\n",
       " 'spotify:album:2HwAcrJuFmv70nzrHYtvoP',\n",
       " 'spotify:album:0LrSkhX0wxyNc6gKocgs45',\n",
       " 'spotify:album:6OHHD6WqSx5EDI74Ma6Wam',\n",
       " 'spotify:album:1Ca0TiFFBLX2KwpnJTvXdI',\n",
       " 'spotify:album:4sEz8WPrURYhRnVVYsrsyj',\n",
       " 'spotify:album:105hxC6gnZDJbK86LkWxOx',\n",
       " 'spotify:album:11YJfivZjEaEUU9lJmeidh',\n",
       " 'spotify:album:5pXscGZp8q2t3gEnkL4uat',\n",
       " 'spotify:album:7Llx4ocuHOQ4eFz70qyjUC',\n",
       " 'spotify:album:6kbpZcdVGbP6KbvsuTymBN',\n",
       " 'spotify:album:4DmsJV2ANlAxF5NNIkxMyU',\n",
       " 'spotify:album:2NR3JcAybz75lz2nzYD3cv',\n",
       " 'spotify:album:1pQJguKLryCpmfP40tcEM0',\n",
       " 'spotify:album:6CPyF4FBUi0a9bJ2VwPKk6',\n",
       " 'spotify:album:4gtt8h7YGortJoVjb42k2H',\n",
       " 'spotify:album:3NAMtgP845mM6cJjYDYy1g',\n",
       " 'spotify:album:3sIQWSDp9P7gfVtifRdwml']"
      ]
     },
     "execution_count": 3,
     "metadata": {},
     "output_type": "execute_result"
    }
   ],
   "source": [
    "#Extract Artist's uri\n",
    "artists_uris = result['tracks']['items'][0]['artists'][0]['uri']\n",
    "#Pull all of the artist's albums\n",
    "artist_albums = sp.artist_albums(artists_uris, album_type='album')\n",
    "#Store artist's albums' names' and uris in separate lists\n",
    "artist_album_names = []\n",
    "artist_album_uris = []\n",
    "for i in range(len(artist_albums['items'])):\n",
    "    artist_album_names.append(artist_albums['items'][i]['name'])\n",
    "    artist_album_uris.append(artist_albums['items'][i]['uri'])\n",
    "    \n",
    "artist_album_names\n",
    "artist_album_uris\n",
    "#Keep names and uris in same order to keep track of duplicate albums"
   ]
  },
  {
   "cell_type": "code",
   "execution_count": 4,
   "id": "937ce113",
   "metadata": {},
   "outputs": [
    {
     "data": {
      "text/plain": [
       "['Doctor (Original Background Score)',\n",
       " 'Master (Original Background Score)',\n",
       " 'Master (Kannada) [Original Motion Picture Soundtrack]',\n",
       " 'Vijay the Master (Original Motion Picture Soundtrack)',\n",
       " 'Master (Telugu) [Original Motion Picture Soundtrack]',\n",
       " 'Voice of Ani',\n",
       " 'Velaiyilla Pattathari (Original Sound Track)',\n",
       " 'Velaiyilla Pattathari (Original Sound Track)',\n",
       " 'Velaiyilla Pattathari (Original Sound Track)',\n",
       " 'Master (Original Motion Picture Soundtrack)',\n",
       " 'Anirudhs Darbar',\n",
       " 'Naanum Rowdy Dhaan (Dialogues)',\n",
       " 'Kaaki Sattai (Original Motion Picture Soundtrack)',\n",
       " 'Jersey (Original Background Score)',\n",
       " 'Golden Hits of S Janaki',\n",
       " 'Petta (Original Background Score)',\n",
       " 'Petta (Hindi) [Original Motion Picture Soundtrack]',\n",
       " 'Petta (Telugu) [Original Motion Picture Soundtrack]',\n",
       " 'Petta (Original Motion Picture Soundtrack)',\n",
       " 'Bromance: Anirudh Ravichander & Sivakarthikeyan']"
      ]
     },
     "execution_count": 4,
     "metadata": {},
     "output_type": "execute_result"
    }
   ],
   "source": [
    "artist_album_names"
   ]
  },
  {
   "cell_type": "code",
   "execution_count": 5,
   "id": "37afe441",
   "metadata": {},
   "outputs": [],
   "source": [
    "def album_songs(uri):\n",
    "    album = uri \n",
    "    spotify_albums[album] = {}\n",
    "    #Create keys-values of empty lists inside nested dictionary for album\n",
    "    spotify_albums[album]['album'] = [] \n",
    "    spotify_albums[album]['track_number'] = []\n",
    "    spotify_albums[album]['id'] = []\n",
    "    spotify_albums[album]['name'] = []\n",
    "    spotify_albums[album]['uri'] = []\n",
    "    #pull data on album tracks\n",
    "    tracks = sp.album_tracks(album) \n",
    "    for n in range(len(tracks['items'])): \n",
    "        spotify_albums[album]['album'].append(artist_album_names[album_count]) \n",
    "        spotify_albums[album]['track_number'].append(tracks['items'][n]['track_number'])\n",
    "        spotify_albums[album]['id'].append(tracks['items'][n]['id'])\n",
    "        spotify_albums[album]['name'].append(tracks['items'][n]['name'])\n",
    "        spotify_albums[album]['uri'].append(tracks['items'][n]['uri'])"
   ]
  },
  {
   "cell_type": "code",
   "execution_count": 6,
   "id": "0d256251",
   "metadata": {},
   "outputs": [
    {
     "name": "stdout",
     "output_type": "stream",
     "text": [
      "Doctor (Original Background Score) album songs has been added to spotify_albums dictionary\n",
      "Master (Original Background Score) album songs has been added to spotify_albums dictionary\n",
      "Master (Kannada) [Original Motion Picture Soundtrack] album songs has been added to spotify_albums dictionary\n",
      "Vijay the Master (Original Motion Picture Soundtrack) album songs has been added to spotify_albums dictionary\n",
      "Master (Telugu) [Original Motion Picture Soundtrack] album songs has been added to spotify_albums dictionary\n",
      "Voice of Ani album songs has been added to spotify_albums dictionary\n",
      "Velaiyilla Pattathari (Original Sound Track) album songs has been added to spotify_albums dictionary\n",
      "Velaiyilla Pattathari (Original Sound Track) album songs has been added to spotify_albums dictionary\n",
      "Velaiyilla Pattathari (Original Sound Track) album songs has been added to spotify_albums dictionary\n",
      "Master (Original Motion Picture Soundtrack) album songs has been added to spotify_albums dictionary\n",
      "Anirudhs Darbar album songs has been added to spotify_albums dictionary\n",
      "Naanum Rowdy Dhaan (Dialogues) album songs has been added to spotify_albums dictionary\n",
      "Kaaki Sattai (Original Motion Picture Soundtrack) album songs has been added to spotify_albums dictionary\n",
      "Jersey (Original Background Score) album songs has been added to spotify_albums dictionary\n",
      "Golden Hits of S Janaki album songs has been added to spotify_albums dictionary\n",
      "Petta (Original Background Score) album songs has been added to spotify_albums dictionary\n",
      "Petta (Hindi) [Original Motion Picture Soundtrack] album songs has been added to spotify_albums dictionary\n",
      "Petta (Telugu) [Original Motion Picture Soundtrack] album songs has been added to spotify_albums dictionary\n",
      "Petta (Original Motion Picture Soundtrack) album songs has been added to spotify_albums dictionary\n",
      "Bromance: Anirudh Ravichander & Sivakarthikeyan album songs has been added to spotify_albums dictionary\n"
     ]
    }
   ],
   "source": [
    "spotify_albums = {}\n",
    "album_count = 0\n",
    "for i in artist_album_uris: #each album\n",
    "    album_songs(i)\n",
    "    print(str(artist_album_names[album_count]) + \" album songs has been added to spotify_albums dictionary\")\n",
    "    album_count+=1 #Updates album count once all tracks have been added"
   ]
  },
  {
   "cell_type": "code",
   "execution_count": null,
   "id": "16cc188b",
   "metadata": {},
   "outputs": [],
   "source": []
  },
  {
   "cell_type": "code",
   "execution_count": null,
   "id": "28c65f37",
   "metadata": {},
   "outputs": [],
   "source": []
  }
 ],
 "metadata": {
  "kernelspec": {
   "display_name": "Python 3 (ipykernel)",
   "language": "python",
   "name": "python3"
  },
  "language_info": {
   "codemirror_mode": {
    "name": "ipython",
    "version": 3
   },
   "file_extension": ".py",
   "mimetype": "text/x-python",
   "name": "python",
   "nbconvert_exporter": "python",
   "pygments_lexer": "ipython3",
   "version": "3.9.7"
  }
 },
 "nbformat": 4,
 "nbformat_minor": 5
}
