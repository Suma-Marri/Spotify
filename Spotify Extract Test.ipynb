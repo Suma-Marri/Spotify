{
 "cells": [
  {
   "cell_type": "code",
   "execution_count": 1,
   "id": "17dbe612",
   "metadata": {},
   "outputs": [
    {
     "name": "stdout",
     "output_type": "stream",
     "text": [
      "Collecting spotipy\n",
      "  Downloading spotipy-2.19.0-py3-none-any.whl (27 kB)\n",
      "Requirement already satisfied: urllib3>=1.26.0 in c:\\users\\suma marri\\anaconda3\\lib\\site-packages (from spotipy) (1.26.7)\n",
      "Requirement already satisfied: six>=1.15.0 in c:\\users\\suma marri\\anaconda3\\lib\\site-packages (from spotipy) (1.16.0)\n",
      "Requirement already satisfied: requests>=2.25.0 in c:\\users\\suma marri\\anaconda3\\lib\\site-packages (from spotipy) (2.26.0)\n",
      "Requirement already satisfied: certifi>=2017.4.17 in c:\\users\\suma marri\\anaconda3\\lib\\site-packages (from requests>=2.25.0->spotipy) (2021.10.8)\n",
      "Requirement already satisfied: idna<4,>=2.5 in c:\\users\\suma marri\\anaconda3\\lib\\site-packages (from requests>=2.25.0->spotipy) (3.2)\n",
      "Requirement already satisfied: charset-normalizer~=2.0.0 in c:\\users\\suma marri\\anaconda3\\lib\\site-packages (from requests>=2.25.0->spotipy) (2.0.4)\n",
      "Installing collected packages: spotipy\n",
      "Successfully installed spotipy-2.19.0\n"
     ]
    }
   ],
   "source": [
    "!pip install spotipy"
   ]
  },
  {
   "cell_type": "code",
   "execution_count": 2,
   "id": "8ad4efc2",
   "metadata": {},
   "outputs": [],
   "source": [
    "import spotipy\n",
    "from spotipy.oauth2 import SpotifyClientCredentials \n",
    "client_id = \"fcec7bdbea3d438f9a0b9158e82b057f\"\n",
    "client_secret = \"63f31f01040647b5891953b97a3fbee2\"\n",
    "client_credentials_manager = SpotifyClientCredentials(client_id=client_id, client_secret=client_secret)\n",
    "sp = spotipy.Spotify(client_credentials_manager=client_credentials_manager) "
   ]
  },
  {
   "cell_type": "code",
   "execution_count": 3,
   "id": "642f570b",
   "metadata": {},
   "outputs": [
    {
     "data": {
      "text/plain": [
       "[{'external_urls': {'spotify': 'https://open.spotify.com/artist/4zCH9qm4R2DADamUHMCa6O'},\n",
       "  'href': 'https://api.spotify.com/v1/artists/4zCH9qm4R2DADamUHMCa6O',\n",
       "  'id': '4zCH9qm4R2DADamUHMCa6O',\n",
       "  'name': 'Anirudh Ravichander',\n",
       "  'type': 'artist',\n",
       "  'uri': 'spotify:artist:4zCH9qm4R2DADamUHMCa6O'},\n",
       " {'external_urls': {'spotify': 'https://open.spotify.com/artist/00sCATpEvwH48ays7PlQFU'},\n",
       "  'href': 'https://api.spotify.com/v1/artists/00sCATpEvwH48ays7PlQFU',\n",
       "  'id': '00sCATpEvwH48ays7PlQFU',\n",
       "  'name': 'Jonita Gandhi',\n",
       "  'type': 'artist',\n",
       "  'uri': 'spotify:artist:00sCATpEvwH48ays7PlQFU'}]"
      ]
     },
     "execution_count": 3,
     "metadata": {},
     "output_type": "execute_result"
    }
   ],
   "source": [
    "name = [\"Anirudh Ravichander\",\"Jonita Gandhi\",\"Dhanush\",\"Bombay Jayashree\"]\n",
    "result = sp.search(name) \n",
    "result['tracks']['items'][1]['artists']"
   ]
  },
  {
   "cell_type": "code",
   "execution_count": null,
   "id": "05e996f9",
   "metadata": {},
   "outputs": [],
   "source": []
  }
 ],
 "metadata": {
  "kernelspec": {
   "display_name": "Python 3 (ipykernel)",
   "language": "python",
   "name": "python3"
  },
  "language_info": {
   "codemirror_mode": {
    "name": "ipython",
    "version": 3
   },
   "file_extension": ".py",
   "mimetype": "text/x-python",
   "name": "python",
   "nbconvert_exporter": "python",
   "pygments_lexer": "ipython3",
   "version": "3.9.7"
  }
 },
 "nbformat": 4,
 "nbformat_minor": 5
}
